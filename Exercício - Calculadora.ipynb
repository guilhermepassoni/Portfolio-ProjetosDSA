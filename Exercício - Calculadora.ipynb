{
 "cells": [
  {
   "cell_type": "code",
   "execution_count": 1,
   "id": "231d4ae3",
   "metadata": {},
   "outputs": [
    {
     "name": "stdout",
     "output_type": "stream",
     "text": [
      "\u001b[1m****************Calculadora em Python**************** \n",
      "\n",
      "\n",
      "\u001b[0;0mSelecione a opção desejada:\n",
      "\n",
      "1) Soma\n",
      "2) Subtração\n",
      "3) Multiplicação\n",
      "4) Divisão\n",
      "\n",
      "Digite a opção: 5\n",
      "\n",
      "Opção inválida! Digite uma das operações do enunciado\n",
      "Digite a opção: 3\n",
      "Digite o primeiro número: 10\n",
      "Digite o segundo número: 3\n",
      "10 * 3 = 30\n"
     ]
    }
   ],
   "source": [
    "# Apresentação da mensagem inicial ao usuário\n",
    "\n",
    "print('\\033[1m' + '****************Calculadora em Python**************** \\n\\n\\n' + \"\\033[0;0m\" + \n",
    "      'Selecione a opção desejada:\\n\\n'\n",
    "      '1) Soma\\n'\n",
    "      '2) Subtração\\n'\n",
    "      '3) Multiplicação\\n'\n",
    "      '4) Divisão\\n' )\n",
    "\n",
    "\n",
    "# Usuário digita a opção correspondente ao operador matemático\n",
    "operador = int(input('Digite a opção: '))\n",
    "\n",
    "\n",
    "# Verificação do operador selecionado\n",
    "\n",
    "# Se o usuário não selecionou a opção correta, ele entra em loop até digitar a opção correta\n",
    "while operador not in (1,2,3,4):\n",
    "    print('\\nOpção inválida! Digite uma das operações do enunciado')\n",
    "    operador == \"\"\n",
    "    operador = int(input('Digite a opção: '))\n",
    "\n",
    "    \n",
    "# Após selecionar a opção correta, o usuário digita os números que serão agregados\n",
    "else:\n",
    "    first_num = int(input('Digite o primeiro número: '))\n",
    "    second_num = int(input('Digite o segundo número: '))\n",
    "\n",
    "    \n",
    "# As condicionais analisam o operador matemático e efetuam a operação com os números digitados\n",
    "if operador == 1:\n",
    "    print(first_num, \"+\", second_num, \"=\", (first_num+second_num))\n",
    "elif operador == 2:\n",
    "    print(first_num, \"-\", second_num, \"=\", (first_num-second_num))\n",
    "elif operador == 3:\n",
    "    print(first_num, \"*\", second_num, \"=\", (first_num*second_num))\n",
    "else:\n",
    "    print(first_num, \"/\", second_num, \"=\", (first_num/second_num))"
   ]
  },
  {
   "cell_type": "code",
   "execution_count": null,
   "id": "6c715328",
   "metadata": {},
   "outputs": [],
   "source": []
  }
 ],
 "metadata": {
  "kernelspec": {
   "display_name": "Python 3 (ipykernel)",
   "language": "python",
   "name": "python3"
  },
  "language_info": {
   "codemirror_mode": {
    "name": "ipython",
    "version": 3
   },
   "file_extension": ".py",
   "mimetype": "text/x-python",
   "name": "python",
   "nbconvert_exporter": "python",
   "pygments_lexer": "ipython3",
   "version": "3.9.13"
  }
 },
 "nbformat": 4,
 "nbformat_minor": 5
}
